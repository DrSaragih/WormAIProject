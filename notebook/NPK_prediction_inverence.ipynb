{
 "cells": [
  {
   "cell_type": "code",
   "execution_count": 1,
   "metadata": {},
   "outputs": [],
   "source": [
    "import pandas as pd\n",
    "import pickle\n",
    "import json\n",
    "import numpy as np\n"
   ]
  },
  {
   "cell_type": "markdown",
   "metadata": {},
   "source": [
    "# Load File"
   ]
  },
  {
   "cell_type": "code",
   "execution_count": 2,
   "metadata": {},
   "outputs": [],
   "source": [
    "# with open('best_model.pkl', 'rb') as file_1:\n",
    "#   best_model = pickle.load(file_1)\n",
    "# with open('best_modelmor.pkl', 'rb') as file_2:\n",
    "#   best_modelmor = pickle.load(file_2)"
   ]
  },
  {
   "cell_type": "code",
   "execution_count": 3,
   "metadata": {},
   "outputs": [],
   "source": [
    "with open('best_modelmor_save.pkl', 'rb') as file_1:\n",
    "  best_modelmor_save = pickle.load(file_1)"
   ]
  },
  {
   "cell_type": "markdown",
   "metadata": {},
   "source": [
    "# Random Dataset"
   ]
  },
  {
   "cell_type": "code",
   "execution_count": 4,
   "metadata": {},
   "outputs": [
    {
     "name": "stdout",
     "output_type": "stream",
     "text": [
      "Original DataFrame:\n",
      "   Light Intensity    Temp01     Hum01    Heat01\n",
      "0         0.724116  0.568044  0.944046  0.803299\n",
      "1         0.977929  0.469732  0.816716  0.447969\n",
      "2         0.133546  0.473298  0.497548  0.269081\n",
      "3         0.829028  0.753986  0.039168  0.588032\n",
      "4         0.237356  0.423560  0.084483  0.598350\n",
      "5         0.958888  0.856292  0.590142  0.537321\n",
      "6         0.026112  0.583697  0.517654  0.909516\n",
      "7         0.685083  0.902093  0.984260  0.472983\n",
      "8         0.303885  0.726897  0.674806  0.344304\n",
      "9         0.054230  0.351569  0.865335  0.952639\n"
     ]
    }
   ],
   "source": [
    "# Example DataFrame (replace with your actual dataset loading code)\n",
    "data = {\n",
    "    'Light Intensity': np.random.rand(10),  # Example random data for demonstration\n",
    "    'Temp01': np.random.rand(10),\n",
    "    'Hum01': np.random.rand(10),\n",
    "    'Heat01': np.random.rand(10),\n",
    "    # 'SoilM01': np.random.rand(10),\n",
    "    # 'SoilM02': np.random.rand(10)\n",
    "}\n",
    "\n",
    "df = pd.DataFrame(data)\n",
    "print(\"Original DataFrame:\")\n",
    "print(df)"
   ]
  },
  {
   "cell_type": "code",
   "execution_count": 5,
   "metadata": {},
   "outputs": [],
   "source": [
    "df.to_csv('sample.csv', index=False)"
   ]
  },
  {
   "cell_type": "code",
   "execution_count": 6,
   "metadata": {},
   "outputs": [
    {
     "name": "stdout",
     "output_type": "stream",
     "text": [
      "[[152.    151.75  161.75  161.125 111.125 109.   ]\n",
      " [152.    151.75  161.75  161.125 111.125 109.   ]\n",
      " [152.    151.75  161.75  161.125 111.125 109.   ]\n",
      " [152.    151.75  161.75  161.125 111.125 109.   ]\n",
      " [152.    151.75  161.75  161.125 111.125 109.   ]\n",
      " [152.    151.75  161.75  161.125 111.125 109.   ]\n",
      " [152.    151.75  161.75  161.125 111.125 109.   ]\n",
      " [152.    151.75  161.75  161.125 111.125 109.   ]\n",
      " [152.    151.75  161.75  161.125 111.125 109.   ]\n",
      " [152.    151.75  161.75  161.125 111.125 109.   ]]\n"
     ]
    }
   ],
   "source": [
    "# predictions1=best_model.predict(df)\n",
    "# print (predictions1)\n",
    "\n",
    "# predictions2=best_modelmor.predict(df)\n",
    "# print (predictions2)\n",
    "\n",
    "predictions=best_modelmor_save.predict(df)\n",
    "print (predictions)"
   ]
  },
  {
   "cell_type": "markdown",
   "metadata": {},
   "source": [
    "# Add Prediction into Dataframe"
   ]
  },
  {
   "cell_type": "code",
   "execution_count": 7,
   "metadata": {},
   "outputs": [],
   "source": [
    "# targets1 = ['Phosphorous01', 'Phosphorous02', 'Nitrogen01', 'Nitrogen02', 'Potassium01', 'Potassium02']\n",
    "# # Add predictions to the DataFrame\n",
    "# for i, target in enumerate(targets1):\n",
    "#     df[target] = predictions1[:, i]"
   ]
  },
  {
   "cell_type": "code",
   "execution_count": 8,
   "metadata": {},
   "outputs": [],
   "source": [
    "targets = ['Phosphorous01', 'Phosphorous02', 'Nitrogen01', 'Nitrogen02', 'Potassium01', 'Potassium02']\n",
    "# Add predictions to the DataFrame\n",
    "for i, target in enumerate(targets):\n",
    "    df[target] = predictions[:, i]"
   ]
  },
  {
   "cell_type": "code",
   "execution_count": 9,
   "metadata": {},
   "outputs": [
    {
     "data": {
      "text/html": [
       "<div>\n",
       "<style scoped>\n",
       "    .dataframe tbody tr th:only-of-type {\n",
       "        vertical-align: middle;\n",
       "    }\n",
       "\n",
       "    .dataframe tbody tr th {\n",
       "        vertical-align: top;\n",
       "    }\n",
       "\n",
       "    .dataframe thead th {\n",
       "        text-align: right;\n",
       "    }\n",
       "</style>\n",
       "<table border=\"1\" class=\"dataframe\">\n",
       "  <thead>\n",
       "    <tr style=\"text-align: right;\">\n",
       "      <th></th>\n",
       "      <th>Light Intensity</th>\n",
       "      <th>Temp01</th>\n",
       "      <th>Hum01</th>\n",
       "      <th>Heat01</th>\n",
       "      <th>Phosphorous01</th>\n",
       "      <th>Phosphorous02</th>\n",
       "      <th>Nitrogen01</th>\n",
       "      <th>Nitrogen02</th>\n",
       "      <th>Potassium01</th>\n",
       "      <th>Potassium02</th>\n",
       "    </tr>\n",
       "  </thead>\n",
       "  <tbody>\n",
       "    <tr>\n",
       "      <th>0</th>\n",
       "      <td>0.724116</td>\n",
       "      <td>0.568044</td>\n",
       "      <td>0.944046</td>\n",
       "      <td>0.803299</td>\n",
       "      <td>152.0</td>\n",
       "      <td>151.75</td>\n",
       "      <td>161.75</td>\n",
       "      <td>161.125</td>\n",
       "      <td>111.125</td>\n",
       "      <td>109.0</td>\n",
       "    </tr>\n",
       "    <tr>\n",
       "      <th>1</th>\n",
       "      <td>0.977929</td>\n",
       "      <td>0.469732</td>\n",
       "      <td>0.816716</td>\n",
       "      <td>0.447969</td>\n",
       "      <td>152.0</td>\n",
       "      <td>151.75</td>\n",
       "      <td>161.75</td>\n",
       "      <td>161.125</td>\n",
       "      <td>111.125</td>\n",
       "      <td>109.0</td>\n",
       "    </tr>\n",
       "    <tr>\n",
       "      <th>2</th>\n",
       "      <td>0.133546</td>\n",
       "      <td>0.473298</td>\n",
       "      <td>0.497548</td>\n",
       "      <td>0.269081</td>\n",
       "      <td>152.0</td>\n",
       "      <td>151.75</td>\n",
       "      <td>161.75</td>\n",
       "      <td>161.125</td>\n",
       "      <td>111.125</td>\n",
       "      <td>109.0</td>\n",
       "    </tr>\n",
       "    <tr>\n",
       "      <th>3</th>\n",
       "      <td>0.829028</td>\n",
       "      <td>0.753986</td>\n",
       "      <td>0.039168</td>\n",
       "      <td>0.588032</td>\n",
       "      <td>152.0</td>\n",
       "      <td>151.75</td>\n",
       "      <td>161.75</td>\n",
       "      <td>161.125</td>\n",
       "      <td>111.125</td>\n",
       "      <td>109.0</td>\n",
       "    </tr>\n",
       "    <tr>\n",
       "      <th>4</th>\n",
       "      <td>0.237356</td>\n",
       "      <td>0.423560</td>\n",
       "      <td>0.084483</td>\n",
       "      <td>0.598350</td>\n",
       "      <td>152.0</td>\n",
       "      <td>151.75</td>\n",
       "      <td>161.75</td>\n",
       "      <td>161.125</td>\n",
       "      <td>111.125</td>\n",
       "      <td>109.0</td>\n",
       "    </tr>\n",
       "    <tr>\n",
       "      <th>5</th>\n",
       "      <td>0.958888</td>\n",
       "      <td>0.856292</td>\n",
       "      <td>0.590142</td>\n",
       "      <td>0.537321</td>\n",
       "      <td>152.0</td>\n",
       "      <td>151.75</td>\n",
       "      <td>161.75</td>\n",
       "      <td>161.125</td>\n",
       "      <td>111.125</td>\n",
       "      <td>109.0</td>\n",
       "    </tr>\n",
       "    <tr>\n",
       "      <th>6</th>\n",
       "      <td>0.026112</td>\n",
       "      <td>0.583697</td>\n",
       "      <td>0.517654</td>\n",
       "      <td>0.909516</td>\n",
       "      <td>152.0</td>\n",
       "      <td>151.75</td>\n",
       "      <td>161.75</td>\n",
       "      <td>161.125</td>\n",
       "      <td>111.125</td>\n",
       "      <td>109.0</td>\n",
       "    </tr>\n",
       "    <tr>\n",
       "      <th>7</th>\n",
       "      <td>0.685083</td>\n",
       "      <td>0.902093</td>\n",
       "      <td>0.984260</td>\n",
       "      <td>0.472983</td>\n",
       "      <td>152.0</td>\n",
       "      <td>151.75</td>\n",
       "      <td>161.75</td>\n",
       "      <td>161.125</td>\n",
       "      <td>111.125</td>\n",
       "      <td>109.0</td>\n",
       "    </tr>\n",
       "    <tr>\n",
       "      <th>8</th>\n",
       "      <td>0.303885</td>\n",
       "      <td>0.726897</td>\n",
       "      <td>0.674806</td>\n",
       "      <td>0.344304</td>\n",
       "      <td>152.0</td>\n",
       "      <td>151.75</td>\n",
       "      <td>161.75</td>\n",
       "      <td>161.125</td>\n",
       "      <td>111.125</td>\n",
       "      <td>109.0</td>\n",
       "    </tr>\n",
       "    <tr>\n",
       "      <th>9</th>\n",
       "      <td>0.054230</td>\n",
       "      <td>0.351569</td>\n",
       "      <td>0.865335</td>\n",
       "      <td>0.952639</td>\n",
       "      <td>152.0</td>\n",
       "      <td>151.75</td>\n",
       "      <td>161.75</td>\n",
       "      <td>161.125</td>\n",
       "      <td>111.125</td>\n",
       "      <td>109.0</td>\n",
       "    </tr>\n",
       "  </tbody>\n",
       "</table>\n",
       "</div>"
      ],
      "text/plain": [
       "   Light Intensity    Temp01     Hum01    Heat01  Phosphorous01  \\\n",
       "0         0.724116  0.568044  0.944046  0.803299          152.0   \n",
       "1         0.977929  0.469732  0.816716  0.447969          152.0   \n",
       "2         0.133546  0.473298  0.497548  0.269081          152.0   \n",
       "3         0.829028  0.753986  0.039168  0.588032          152.0   \n",
       "4         0.237356  0.423560  0.084483  0.598350          152.0   \n",
       "5         0.958888  0.856292  0.590142  0.537321          152.0   \n",
       "6         0.026112  0.583697  0.517654  0.909516          152.0   \n",
       "7         0.685083  0.902093  0.984260  0.472983          152.0   \n",
       "8         0.303885  0.726897  0.674806  0.344304          152.0   \n",
       "9         0.054230  0.351569  0.865335  0.952639          152.0   \n",
       "\n",
       "   Phosphorous02  Nitrogen01  Nitrogen02  Potassium01  Potassium02  \n",
       "0         151.75      161.75     161.125      111.125        109.0  \n",
       "1         151.75      161.75     161.125      111.125        109.0  \n",
       "2         151.75      161.75     161.125      111.125        109.0  \n",
       "3         151.75      161.75     161.125      111.125        109.0  \n",
       "4         151.75      161.75     161.125      111.125        109.0  \n",
       "5         151.75      161.75     161.125      111.125        109.0  \n",
       "6         151.75      161.75     161.125      111.125        109.0  \n",
       "7         151.75      161.75     161.125      111.125        109.0  \n",
       "8         151.75      161.75     161.125      111.125        109.0  \n",
       "9         151.75      161.75     161.125      111.125        109.0  "
      ]
     },
     "execution_count": 9,
     "metadata": {},
     "output_type": "execute_result"
    }
   ],
   "source": [
    "df"
   ]
  },
  {
   "cell_type": "code",
   "execution_count": 10,
   "metadata": {},
   "outputs": [],
   "source": [
    "# targets2 = ['Phosphorous01DT', 'Phosphorous02DT', 'Nitrogen01DT', 'Nitrogen02DT', 'Potassium01DT', 'Potassium02DT']\n",
    "# # Add predictions to the DataFrame\n",
    "# for i, target in enumerate(targets2):\n",
    "#     df[target] = predictions2[:, i]\n",
    "# df"
   ]
  }
 ],
 "metadata": {
  "kernelspec": {
   "display_name": "base",
   "language": "python",
   "name": "python3"
  },
  "language_info": {
   "codemirror_mode": {
    "name": "ipython",
    "version": 3
   },
   "file_extension": ".py",
   "mimetype": "text/x-python",
   "name": "python",
   "nbconvert_exporter": "python",
   "pygments_lexer": "ipython3",
   "version": "3.11.5"
  }
 },
 "nbformat": 4,
 "nbformat_minor": 2
}
